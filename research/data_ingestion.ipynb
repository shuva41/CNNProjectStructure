{
 "cells": [
  {
   "cell_type": "code",
   "execution_count": 1,
   "metadata": {},
   "outputs": [],
   "source": [
    "# config_entity.py\n",
    "from dataclasses import dataclass\n",
    "from pathlib import Path\n",
    "import os\n",
    "\n",
    "\n",
    "@dataclass(frozen=True)            # frozen=True means imutable dataclass\n",
    "class DataIngestionConfig:\n",
    "    root_dir: Path                 # Data type is path\n",
    "    source_URL: str\n",
    "    local_data_file: Path\n",
    "    unzip_dir: Path"
   ]
  },
  {
   "cell_type": "code",
   "execution_count": 2,
   "metadata": {},
   "outputs": [],
   "source": [
    "# configuration.py\n",
    "from CNNClassifier.constants import *\n",
    "from CNNClassifier.utils.utils import read_yaml, create_directory"
   ]
  },
  {
   "cell_type": "markdown",
   "metadata": {},
   "source": [
    "# Configuration of Input of Data Ingestion Component"
   ]
  },
  {
   "cell_type": "code",
   "execution_count": 3,
   "metadata": {},
   "outputs": [],
   "source": [
    "# configuration.py\n",
    "class ConfigurationManager:\n",
    "    # Class to map config_entity.py with config.yaml file\n",
    "    def __init__(self, config_file_path=CONFIG_FILE_PATH, params_file_path= PARAMS_FILE_PATH):\n",
    "        self.config = read_yaml(config_file_path)\n",
    "        self.params = read_yaml(params_file_path)\n",
    "        # artifacts directory created\n",
    "        create_directory([self.config.artifacts_root])\n",
    "    def get_data_ingestion_config(self) -> DataIngestionConfig:\n",
    "        config = self.config.data_ingestion\n",
    "        # artifacts/data_ingestion folder created\n",
    "        create_directory([config.root_dir])\n",
    "\n",
    "        # Assign values from config.yaml file to DataIngestionConfig dataclass in config_entity.\n",
    "        data_ingestion_config = DataIngestionConfig(\n",
    "            root_dir=config.root_dir,\n",
    "            source_URL=config.source_URL,\n",
    "            local_data_file=config.local_data_file,\n",
    "            unzip_dir=config.unzip_dir\n",
    "        )\n",
    "        return data_ingestion_config"
   ]
  },
  {
   "cell_type": "markdown",
   "metadata": {},
   "source": [
    "# Data Ingestion Function Definition"
   ]
  },
  {
   "cell_type": "code",
   "execution_count": 4,
   "metadata": {},
   "outputs": [],
   "source": [
    "# Stage_01_data_ingestion.py\n",
    "import urllib.request as request\n",
    "from zipfile import ZipFile\n",
    "class DataIngestion:\n",
    "    \n",
    "    def __init__(self, config: DataIngestionConfig):\n",
    "        self.config = config\n",
    "\n",
    "    def download_file(self):\n",
    "        if not os.path.exists(self.config.local_data_file):\n",
    "            #logger.info(\"Downloading Data\")\n",
    "            filename,header = request.urlretrieve(url=self.config.source_URL, filename=self.config.local_data_file)\n",
    "        #else:\n",
    "         #   logger.info(\"Data already downloaded\")\n",
    "\n",
    "    def get_updated_list_of_files(self, list_of_files):\n",
    "        return [f for f in list_of_files if f.endswith('.jpg')]\n",
    "\n",
    "    def preprocess(self, zf:ZipFile, f:str, working_dir:str):\n",
    "        target_file_path = os.path.join(working_dir, f)\n",
    "        if not os.path.exists(target_file_path):\n",
    "            zf.extract(f, working_dir)\n",
    "            # os.rename(os.path.join(working_dir, f), target_file_path)\n",
    "\n",
    "    def unzip_and_clean(self):\n",
    "        with ZipFile(self.config.local_data_file, mode='r') as zipObj:\n",
    "            list_of_files = zipObj.namelist()\n",
    "            # Extracting the jpg files\n",
    "            updated_list_of_file = self.get_updated_list_of_files(list_of_files)\n",
    "            for f in updated_list_of_file:\n",
    "                # For showing progress of preprocessing.\n",
    "                self.preprocess(zipObj, f, self.config.unzip_dir)"
   ]
  },
  {
   "cell_type": "markdown",
   "metadata": {},
   "source": [
    "# Data Ingestion Pipeline"
   ]
  },
  {
   "cell_type": "code",
   "execution_count": 5,
   "metadata": {},
   "outputs": [
    {
     "data": {
      "text/plain": [
       "'f:\\\\Machine_Learning\\\\full_stack_data_science-ineuron\\\\Computer Vision\\\\CNNProjectStructure'"
      ]
     },
     "execution_count": 5,
     "metadata": {},
     "output_type": "execute_result"
    }
   ],
   "source": [
    "os.chdir(\"../\")\n",
    "%pwd"
   ]
  },
  {
   "cell_type": "code",
   "execution_count": 6,
   "metadata": {},
   "outputs": [
    {
     "name": "stdout",
     "output_type": "stream",
     "text": [
      "[2024-01-10 19:00:03,403: INFO: utils]: Directory created at artifacts\n",
      "[2024-01-10 19:00:03,404: INFO: utils]: Directory created at artifacts/data_ingestion\n"
     ]
    }
   ],
   "source": [
    "# data_ingestion_pipeline.py\n",
    "config = ConfigurationManager()\n",
    "data_ingestion_config = config.get_data_ingestion_config()\n",
    "# This is where we are passing the configuration in config.yaml file to the DataIngestion class in stage_01_data_ingestion.py file.\n",
    "data_ingestion = DataIngestion(config=data_ingestion_config)\n",
    "\n",
    "# Download the data from the given url or database.\n",
    "#logger.info(\"Downloading Data\")\n",
    "data_ingestion.download_file()\n",
    "#logger.info(\"Downloaded Data Successfully\")\n",
    "\n",
    "# Unzip and clean the data\n",
    "#logger.info(\"Unzipping and Cleaning Data\")\n",
    "data_ingestion.unzip_and_clean()\n",
    "#logger.info(\"Unzipped and Cleaned Data Successfully\")\n",
    "\n",
    "#logger.info(\"Stage 01: Data Ingestion completed successfully.\")"
   ]
  },
  {
   "cell_type": "code",
   "execution_count": null,
   "metadata": {},
   "outputs": [],
   "source": []
  }
 ],
 "metadata": {
  "kernelspec": {
   "display_name": "Python 3",
   "language": "python",
   "name": "python3"
  },
  "language_info": {
   "codemirror_mode": {
    "name": "ipython",
    "version": 3
   },
   "file_extension": ".py",
   "mimetype": "text/x-python",
   "name": "python",
   "nbconvert_exporter": "python",
   "pygments_lexer": "ipython3",
   "version": "3.8.18"
  }
 },
 "nbformat": 4,
 "nbformat_minor": 2
}
